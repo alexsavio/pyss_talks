{
 "metadata": {
  "celltoolbar": "Slideshow",
  "name": "",
  "signature": "sha256:48fa243cf968003dd0ecda1d10a4d83abed754630ef87cfba77e756211f3ad16"
 },
 "nbformat": 3,
 "nbformat_minor": 0,
 "worksheets": [
  {
   "cells": [
    {
     "cell_type": "markdown",
     "metadata": {
      "slideshow": {
       "slide_type": "slide"
      }
     },
     "source": [
      "# Introduction to PyMC\n",
      "\n",
      "Alexandre Savio, Borja Ayerdi and Darya Chyzhyk\n",
      "\n",
      "September 26-28th, 2014\n",
      "\n",
      "<p><center><img src='mylogo.png'/></center></p>\n",
      "\n",
      "<p><center>@ PySS 14</center></p>"
     ]
    },
    {
     "cell_type": "markdown",
     "metadata": {
      "slideshow": {
       "slide_type": "subslide"
      }
     },
     "source": [
      "## whoami\n",
      "\n",
      "<p style=\"font-size:32px\">Alexandre Manh\u00e3es Savio</p>\n",
      "\n",
      "<p><i class=\"fa fa-globe fa-fw\"></i>http://alexsavio.github.io</p>\n",
      "\n",
      "<p><i class=\"fa fa-github fa-fw\"></i> http://www.github.com/alexsavio</p>\n",
      "\n",
      "<p><i class=\"fa fa-twitter fa-fw\"></i>[@alex_savio](http://www.twitter.com/alex_savio)</p>\n",
      "\n",
      "<p><i class=\"fa fa-envelope fa-fw\"></i><a href='mailto:alex.savio@neurita.com'>alex.savio@neurita.com</a></p>"
     ]
    },
    {
     "cell_type": "markdown",
     "metadata": {
      "slideshow": {
       "slide_type": "slide"
      }
     },
     "source": [
      "# Who was Bayes?"
     ]
    },
    {
     "cell_type": "markdown",
     "metadata": {
      "slideshow": {
       "slide_type": "fragment"
      }
     },
     "source": [
      "![Thomas Bayes](http://upload.wikimedia.org/wikipedia/commons/thumb/d/d4/Thomas_Bayes.gif/225px-Thomas_Bayes.gif \"Thomas Bayes\")"
     ]
    },
    {
     "cell_type": "markdown",
     "metadata": {
      "slideshow": {
       "slide_type": "fragment"
      }
     },
     "source": [
      "Thomas Bayes (1702\u20131761), a minister & amateur mathematician, proved a case of Bayes\u2019 Theorem in a 1763 paper."
     ]
    },
    {
     "cell_type": "markdown",
     "metadata": {
      "slideshow": {
       "slide_type": "fragment"
      }
     },
     "source": [
      "<img src='http://upload.wikimedia.org/wikipedia/commons/5/54/Bayes_sig.svg' alt=\"Thomas Bayes Signature\" width=200px/>"
     ]
    },
    {
     "cell_type": "markdown",
     "metadata": {
      "slideshow": {
       "slide_type": "subslide"
      }
     },
     "source": [
      "![Laplace](http://upload.wikimedia.org/wikipedia/commons/9/91/Pierre-Simon-Laplace_%281749-1827%29.jpg \"Laplace\")"
     ]
    },
    {
     "cell_type": "markdown",
     "metadata": {
      "slideshow": {
       "slide_type": "fragment"
      }
     },
     "source": [
      "Pierre-Simon Laplace (1749\u20131827) introduced a general version of the theorem and applied it to several fields, including celestial mechanics & medicine. \n",
      "\n",
      "When insufficient knowledge was available to specify an informed prior, Laplace used uniform priors, according to his \u201cprinciple of insufficient reason\u201d"
     ]
    },
    {
     "cell_type": "markdown",
     "metadata": {
      "slideshow": {
       "slide_type": "fragment"
      }
     },
     "source": [
      "<img src='http://upload.wikimedia.org/wikipedia/commons/1/16/Pierre-Simon_Laplace_signature.svg' alt=\"Laplace\" width=200px/>"
     ]
    },
    {
     "cell_type": "markdown",
     "metadata": {
      "slideshow": {
       "slide_type": "subslide"
      }
     },
     "source": [
      "Around 1950, statisticians began to advocate Bayesian methods to overcome the limitations of frequentist approach: L.J. Savage, Bruno de Finetti, Dennis Lindley"
     ]
    },
    {
     "cell_type": "markdown",
     "metadata": {
      "slideshow": {
       "slide_type": "fragment"
      }
     },
     "source": [
      "Bayesian Statistics did not become popular until the 1980\u2019s and 90\u2019s:\n",
      "\n",
      "    *   the Bayesian approach requires evaluation of complex, multi-dimensional integrals"
     ]
    },
    {
     "cell_type": "markdown",
     "metadata": {
      "slideshow": {
       "slide_type": "subslide"
      }
     },
     "source": [
      "# What is Bayesian Inference?"
     ]
    },
    {
     "cell_type": "markdown",
     "metadata": {
      "slideshow": {
       "slide_type": "subslide"
      }
     },
     "source": [
      "The goal of Bayesian inference is to produce posterior probability distributions on parameters of interest."
     ]
    },
    {
     "cell_type": "markdown",
     "metadata": {
      "slideshow": {
       "slide_type": "slide"
      }
     },
     "source": [
      "# Example: coin tossing"
     ]
    },
    {
     "cell_type": "markdown",
     "metadata": {
      "slideshow": {
       "slide_type": "slide"
      }
     },
     "source": [
      "# Another example: this one with a lambda"
     ]
    },
    {
     "cell_type": "markdown",
     "metadata": {
      "slideshow": {
       "slide_type": "slide"
      }
     },
     "source": [
      "# MonteCarlo Markov Chain (MCMC)"
     ]
    },
    {
     "cell_type": "markdown",
     "metadata": {
      "slideshow": {
       "slide_type": "slide"
      }
     },
     "source": [
      "# Exploring the landscape with MCMC"
     ]
    },
    {
     "cell_type": "markdown",
     "metadata": {
      "slideshow": {
       "slide_type": "fragment"
      }
     },
     "source": [
      "# The ball&sticks model for brain diffusion"
     ]
    },
    {
     "cell_type": "markdown",
     "metadata": {
      "slideshow": {
       "slide_type": "slide"
      }
     },
     "source": [
      "# Other modules for Bayesian sampling"
     ]
    },
    {
     "cell_type": "markdown",
     "metadata": {
      "slideshow": {
       "slide_type": "fragment"
      }
     },
     "source": [
      "* **emcee**: http://dan.iel.fm/emcee\n",
      "\n",
      "* **multinest**: http://ccpforge.cse.rl.ac.uk/gf/project/multinest/\n",
      "* **pymultinest**: https://code.google.com/p/lisasolve/wiki/pymultinest\n",
      "\n",
      "* **stan**: http://mc-stan.org/\n",
      "* **pystan**: http://pystan.readthedocs.org\n",
      "\n",
      "* **Bayesian Inference with Python (BIP)**: https://code.google.com/p/bayesian-inference/"
     ]
    },
    {
     "cell_type": "markdown",
     "metadata": {
      "slideshow": {
       "slide_type": "slide"
      }
     },
     "source": [
      "# References"
     ]
    },
    {
     "cell_type": "markdown",
     "metadata": {
      "slideshow": {
       "slide_type": "fragment"
      }
     },
     "source": [
      "[1]: https://github.com/profjsb/python-seminar/, *Joseph Richards*, Presentation: Bayesian Inference in Python\n",
      "\n",
      "[2]: http://camdavidsonpilon.github.io/Probabilistic-Programming-and-Bayesian-Methods-for-Hackers/, *Cam Davidson-Pilon*, Probabilistic Programming & Bayesian Methods for Hackers"
     ]
    }
   ],
   "metadata": {}
  }
 ]
}