{
 "metadata": {
  "name": "",
  "signature": "sha256:22bac963fa09210e24135069a774706fd810c1bef0df55640ccadff3005bf3b8"
 },
 "nbformat": 3,
 "nbformat_minor": 0,
 "worksheets": [
  {
   "cells": [
    {
     "cell_type": "markdown",
     "metadata": {},
     "source": [
      "#Diffusion tensor imaging (DTI)"
     ]
    },
    {
     "cell_type": "markdown",
     "metadata": {},
     "source": [
      "For a DTI sequence we need many different diffusion weighted acquisitions."
     ]
    },
    {
     "cell_type": "markdown",
     "metadata": {},
     "source": [
      "The magnetic diffusion gradient of each DWI has a strength and orientation."
     ]
    },
    {
     "cell_type": "code",
     "collapsed": false,
     "input": [
      "import numpy as np\n",
      "import IPython.display as display"
     ],
     "language": "python",
     "metadata": {},
     "outputs": [],
     "prompt_number": 12
    },
    {
     "cell_type": "code",
     "collapsed": false,
     "input": [
      "bvecs = np.loadtxt('data/stanford_hardi/HARDI150.bvec')\n",
      "print(bvecs.shape)"
     ],
     "language": "python",
     "metadata": {},
     "outputs": [
      {
       "output_type": "stream",
       "stream": "stdout",
       "text": [
        "(3, 160)\n"
       ]
      }
     ],
     "prompt_number": 13
    },
    {
     "cell_type": "code",
     "collapsed": false,
     "input": [
      "bvals = np.loadtxt('data/stanford_hardi/HARDI150.bval')\n",
      "print(bvals)"
     ],
     "language": "python",
     "metadata": {},
     "outputs": [
      {
       "output_type": "stream",
       "stream": "stdout",
       "text": [
        "[    0.     0.     0.     0.     0.     0.     0.     0.     0.     0.\n",
        "  2000.  2000.  2000.  2000.  2000.  2000.  2000.  2000.  2000.  2000.\n",
        "  2000.  2000.  2000.  2000.  2000.  2000.  2000.  2000.  2000.  2000.\n",
        "  2000.  2000.  2000.  2000.  2000.  2000.  2000.  2000.  2000.  2000.\n",
        "  2000.  2000.  2000.  2000.  2000.  2000.  2000.  2000.  2000.  2000.\n",
        "  2000.  2000.  2000.  2000.  2000.  2000.  2000.  2000.  2000.  2000.\n",
        "  2000.  2000.  2000.  2000.  2000.  2000.  2000.  2000.  2000.  2000.\n",
        "  2000.  2000.  2000.  2000.  2000.  2000.  2000.  2000.  2000.  2000.\n",
        "  2000.  2000.  2000.  2000.  2000.  2000.  2000.  2000.  2000.  2000.\n",
        "  2000.  2000.  2000.  2000.  2000.  2000.  2000.  2000.  2000.  2000.\n",
        "  2000.  2000.  2000.  2000.  2000.  2000.  2000.  2000.  2000.  2000.\n",
        "  2000.  2000.  2000.  2000.  2000.  2000.  2000.  2000.  2000.  2000.\n",
        "  2000.  2000.  2000.  2000.  2000.  2000.  2000.  2000.  2000.  2000.\n",
        "  2000.  2000.  2000.  2000.  2000.  2000.  2000.  2000.  2000.  2000.\n",
        "  2000.  2000.  2000.  2000.  2000.  2000.  2000.  2000.  2000.  2000.\n",
        "  2000.  2000.  2000.  2000.  2000.  2000.  2000.  2000.  2000.  2000.]\n"
       ]
      }
     ],
     "prompt_number": 14
    },
    {
     "cell_type": "code",
     "collapsed": false,
     "input": [
      "from dipy.core.gradients import gradient_table\n",
      "gtab = gradient_table(bvals, bvecs)"
     ],
     "language": "python",
     "metadata": {},
     "outputs": [],
     "prompt_number": 15
    },
    {
     "cell_type": "code",
     "collapsed": false,
     "input": [
      "from dipy.viz import fvtk\n",
      "ren = fvtk.ren()\n",
      "ren.SetBackground(1, 1, 1)\n",
      "fvtk.add(ren, fvtk.point(gtab.gradients, fvtk.colors.green, point_radius=0.05))\n",
      "#fvtk.add(ren, fvtk.point(hsph_updated.vertices, fvtk.colors.green, point_radius=0.05))\n",
      "\n",
      "print('Saving illustration as one_shell.png')\n",
      "fvtk.record(ren, out_path='one_shell.png', size=(600, 600))\n",
      "display.Image('one_shell.png')"
     ],
     "language": "python",
     "metadata": {},
     "outputs": [
      {
       "output_type": "stream",
       "stream": "stdout",
       "text": [
        "Saving illustration as one_shell.png\n"
       ]
      },
      {
       "metadata": {},
       "output_type": "pyout",
       "png": "[encoded data removed]",
       "prompt_number": 16,
       "text": [
        "<IPython.core.display.Image at 0x7f40dfa76410>"
       ]
      }
     ],
     "prompt_number": 16
    },
    {
     "cell_type": "code",
     "collapsed": false,
     "input": [
      "colors_b1000 = fvtk.colors.blue * np.ones(vertices.shape)\n",
      "colors_b2500 = fvtk.colors.cyan * np.ones(vertices.shape)\n",
      "colors = np.vstack((colors_b1000, colors_b2500))\n",
      "colors = np.insert(colors, (0, colors.shape[0]), np.array([0, 0, 0]), axis=0)\n",
      "colors = np.ascontiguousarray(colors)\n",
      "\n",
      "fvtk.rm_all(ren)\n",
      "fvtk.add(ren, fvtk.point(gtab.gradients, colors, point_radius=100))\n",
      "\n",
      "print('Saving illustration as gradients.png')\n",
      "fvtk.record(ren, out_path='gradients.png', size=(300, 300))"
     ],
     "language": "python",
     "metadata": {},
     "outputs": []
    }
   ],
   "metadata": {}
  }
 ]
}