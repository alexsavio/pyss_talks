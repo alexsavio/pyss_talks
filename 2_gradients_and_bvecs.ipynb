{
 "metadata": {
  "name": "",
  "signature": "sha256:d16ae42ac0e5c9a4711dc89dc8dbdc37ee7395a3334a7003a1df8f07f338bd2c"
 },
 "nbformat": 3,
 "nbformat_minor": 0,
 "worksheets": [
  {
   "cells": [
    {
     "cell_type": "markdown",
     "metadata": {},
     "source": [
      "#Diffusion tensor imaging (DTI)"
     ]
    },
    {
     "cell_type": "markdown",
     "metadata": {},
     "source": [
      "For a DTI sequence we need many different diffusion weighted acquisitions."
     ]
    },
    {
     "cell_type": "markdown",
     "metadata": {},
     "source": [
      "The magnetic diffusion gradient of each DWI has a strength and orientation."
     ]
    },
    {
     "cell_type": "code",
     "collapsed": false,
     "input": [
      "import numpy as np\n",
      "import IPython.display as display"
     ],
     "language": "python",
     "metadata": {},
     "outputs": [],
     "prompt_number": 1
    },
    {
     "cell_type": "code",
     "collapsed": false,
     "input": [
      "bvecs = np.loadtxt('data/stanford_hardi/HARDI150.bvec')\n",
      "print(bvecs.shape)"
     ],
     "language": "python",
     "metadata": {},
     "outputs": [
      {
       "output_type": "stream",
       "stream": "stdout",
       "text": [
        "(3, 160)\n"
       ]
      }
     ],
     "prompt_number": 2
    },
    {
     "cell_type": "code",
     "collapsed": false,
     "input": [
      "bvals = np.loadtxt('data/stanford_hardi/HARDI150.bval')\n",
      "print(bvals)"
     ],
     "language": "python",
     "metadata": {},
     "outputs": [
      {
       "output_type": "stream",
       "stream": "stdout",
       "text": [
        "[    0.     0.     0.     0.     0.     0.     0.     0.     0.     0.\n",
        "  2000.  2000.  2000.  2000.  2000.  2000.  2000.  2000.  2000.  2000.\n",
        "  2000.  2000.  2000.  2000.  2000.  2000.  2000.  2000.  2000.  2000.\n",
        "  2000.  2000.  2000.  2000.  2000.  2000.  2000.  2000.  2000.  2000.\n",
        "  2000.  2000.  2000.  2000.  2000.  2000.  2000.  2000.  2000.  2000.\n",
        "  2000.  2000.  2000.  2000.  2000.  2000.  2000.  2000.  2000.  2000.\n",
        "  2000.  2000.  2000.  2000.  2000.  2000.  2000.  2000.  2000.  2000.\n",
        "  2000.  2000.  2000.  2000.  2000.  2000.  2000.  2000.  2000.  2000.\n",
        "  2000.  2000.  2000.  2000.  2000.  2000.  2000.  2000.  2000.  2000.\n",
        "  2000.  2000.  2000.  2000.  2000.  2000.  2000.  2000.  2000.  2000.\n",
        "  2000.  2000.  2000.  2000.  2000.  2000.  2000.  2000.  2000.  2000.\n",
        "  2000.  2000.  2000.  2000.  2000.  2000.  2000.  2000.  2000.  2000.\n",
        "  2000.  2000.  2000.  2000.  2000.  2000.  2000.  2000.  2000.  2000.\n",
        "  2000.  2000.  2000.  2000.  2000.  2000.  2000.  2000.  2000.  2000.\n",
        "  2000.  2000.  2000.  2000.  2000.  2000.  2000.  2000.  2000.  2000.\n",
        "  2000.  2000.  2000.  2000.  2000.  2000.  2000.  2000.  2000.  2000.]\n"
       ]
      }
     ],
     "prompt_number": 3
    },
    {
     "cell_type": "code",
     "collapsed": false,
     "input": [
      "from dipy.core.gradients import gradient_table\n",
      "gtab = gradient_table(bvals, bvecs)"
     ],
     "language": "python",
     "metadata": {},
     "outputs": [],
     "prompt_number": 4
    },
    {
     "cell_type": "code",
     "collapsed": false,
     "input": [
      "from dipy.viz import fvtk\n",
      "ren = fvtk.ren()\n",
      "ren.SetBackground(1, 1, 1)\n",
      "fvtk.add(ren, fvtk.point(gtab.gradients, fvtk.colors.green, point_radius=0.05))\n",
      "#fvtk.add(ren, fvtk.point(hsph_updated.vertices, fvtk.colors.green, point_radius=0.05))\n",
      "\n",
      "print('Saving illustration as one_shell.png')\n",
      "fvtk.record(ren, out_path='one_shell.png', size=(600, 600))\n",
      "display.Image('one_shell.png')"
     ],
     "language": "python",
     "metadata": {},
     "outputs": [
      {
       "ename": "TripWireError",
       "evalue": "We need package vtk for these functions, but ``import vtk`` raised an ImportError",
       "output_type": "pyerr",
       "traceback": [
        "\u001b[1;31m---------------------------------------------------------------------------\u001b[0m\n\u001b[1;31mTripWireError\u001b[0m                             Traceback (most recent call last)",
        "\u001b[1;32m<ipython-input-5-b7902f8d20b1>\u001b[0m in \u001b[0;36m<module>\u001b[1;34m()\u001b[0m\n\u001b[0;32m      1\u001b[0m \u001b[1;32mfrom\u001b[0m \u001b[0mdipy\u001b[0m\u001b[1;33m.\u001b[0m\u001b[0mviz\u001b[0m \u001b[1;32mimport\u001b[0m \u001b[0mfvtk\u001b[0m\u001b[1;33m\u001b[0m\u001b[0m\n\u001b[1;32m----> 2\u001b[1;33m \u001b[0mren\u001b[0m \u001b[1;33m=\u001b[0m \u001b[0mfvtk\u001b[0m\u001b[1;33m.\u001b[0m\u001b[0mren\u001b[0m\u001b[1;33m(\u001b[0m\u001b[1;33m)\u001b[0m\u001b[1;33m\u001b[0m\u001b[0m\n\u001b[0m\u001b[0;32m      3\u001b[0m \u001b[0mren\u001b[0m\u001b[1;33m.\u001b[0m\u001b[0mSetBackground\u001b[0m\u001b[1;33m(\u001b[0m\u001b[1;36m1\u001b[0m\u001b[1;33m,\u001b[0m \u001b[1;36m1\u001b[0m\u001b[1;33m,\u001b[0m \u001b[1;36m1\u001b[0m\u001b[1;33m)\u001b[0m\u001b[1;33m\u001b[0m\u001b[0m\n\u001b[0;32m      4\u001b[0m \u001b[0mfvtk\u001b[0m\u001b[1;33m.\u001b[0m\u001b[0madd\u001b[0m\u001b[1;33m(\u001b[0m\u001b[0mren\u001b[0m\u001b[1;33m,\u001b[0m \u001b[0mfvtk\u001b[0m\u001b[1;33m.\u001b[0m\u001b[0mpoint\u001b[0m\u001b[1;33m(\u001b[0m\u001b[0mgtab\u001b[0m\u001b[1;33m.\u001b[0m\u001b[0mgradients\u001b[0m\u001b[1;33m,\u001b[0m \u001b[0mfvtk\u001b[0m\u001b[1;33m.\u001b[0m\u001b[0mcolors\u001b[0m\u001b[1;33m.\u001b[0m\u001b[0mgreen\u001b[0m\u001b[1;33m,\u001b[0m \u001b[0mpoint_radius\u001b[0m\u001b[1;33m=\u001b[0m\u001b[1;36m0.05\u001b[0m\u001b[1;33m)\u001b[0m\u001b[1;33m)\u001b[0m\u001b[1;33m\u001b[0m\u001b[0m\n\u001b[0;32m      5\u001b[0m \u001b[1;31m#fvtk.add(ren, fvtk.point(hsph_updated.vertices, fvtk.colors.green, point_radius=0.05))\u001b[0m\u001b[1;33m\u001b[0m\u001b[1;33m\u001b[0m\u001b[0m\n",
        "\u001b[1;32m/home/alexandre/envs/pyss/local/lib/python2.7/site-packages/dipy/viz/fvtk.pyc\u001b[0m in \u001b[0;36mren\u001b[1;34m()\u001b[0m\n\u001b[0;32m     78\u001b[0m     \u001b[1;33m>>\u001b[0m\u001b[1;33m>\u001b[0m \u001b[1;31m#fvtk.show(r)\u001b[0m\u001b[1;33m\u001b[0m\u001b[0m\n\u001b[0;32m     79\u001b[0m     '''\n\u001b[1;32m---> 80\u001b[1;33m     \u001b[1;32mreturn\u001b[0m \u001b[0mvtk\u001b[0m\u001b[1;33m.\u001b[0m\u001b[0mvtkRenderer\u001b[0m\u001b[1;33m(\u001b[0m\u001b[1;33m)\u001b[0m\u001b[1;33m\u001b[0m\u001b[0m\n\u001b[0m\u001b[0;32m     81\u001b[0m \u001b[1;33m\u001b[0m\u001b[0m\n\u001b[0;32m     82\u001b[0m \u001b[1;33m\u001b[0m\u001b[0m\n",
        "\u001b[1;32m/home/alexandre/envs/pyss/local/lib/python2.7/site-packages/dipy/utils/tripwire.pyc\u001b[0m in \u001b[0;36m__getattr__\u001b[1;34m(self, attr_name)\u001b[0m\n\u001b[0;32m     46\u001b[0m     \u001b[1;32mdef\u001b[0m \u001b[0m__getattr__\u001b[0m\u001b[1;33m(\u001b[0m\u001b[0mself\u001b[0m\u001b[1;33m,\u001b[0m \u001b[0mattr_name\u001b[0m\u001b[1;33m)\u001b[0m\u001b[1;33m:\u001b[0m\u001b[1;33m\u001b[0m\u001b[0m\n\u001b[0;32m     47\u001b[0m         \u001b[1;34m''' Raise informative error accessing attributes '''\u001b[0m\u001b[1;33m\u001b[0m\u001b[0m\n\u001b[1;32m---> 48\u001b[1;33m         \u001b[1;32mraise\u001b[0m \u001b[0mTripWireError\u001b[0m\u001b[1;33m(\u001b[0m\u001b[0mself\u001b[0m\u001b[1;33m.\u001b[0m\u001b[0m_msg\u001b[0m\u001b[1;33m)\u001b[0m\u001b[1;33m\u001b[0m\u001b[0m\n\u001b[0m",
        "\u001b[1;31mTripWireError\u001b[0m: We need package vtk for these functions, but ``import vtk`` raised an ImportError"
       ]
      }
     ],
     "prompt_number": 5
    },
    {
     "cell_type": "code",
     "collapsed": false,
     "input": [
      "colors_b1000 = fvtk.colors.blue * np.ones(vertices.shape)\n",
      "colors_b2500 = fvtk.colors.cyan * np.ones(vertices.shape)\n",
      "colors = np.vstack((colors_b1000, colors_b2500))\n",
      "colors = np.insert(colors, (0, colors.shape[0]), np.array([0, 0, 0]), axis=0)\n",
      "colors = np.ascontiguousarray(colors)\n",
      "\n",
      "fvtk.rm_all(ren)\n",
      "fvtk.add(ren, fvtk.point(gtab.gradients, colors, point_radius=100))\n",
      "\n",
      "print('Saving illustration as gradients.png')\n",
      "fvtk.record(ren, out_path='gradients.png', size=(300, 300))"
     ],
     "language": "python",
     "metadata": {},
     "outputs": []
    }
   ],
   "metadata": {}
  }
 ]
}