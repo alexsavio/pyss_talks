{
 "metadata": {
  "name": "",
  "signature": "sha256:7a2e29a750dd4f56e56b1adaad4ee21398323735783d4624977db220d9c88fc3"
 },
 "nbformat": 3,
 "nbformat_minor": 0,
 "worksheets": [
  {
   "cells": [
    {
     "cell_type": "markdown",
     "metadata": {},
     "source": [
      "## Diffusion MRI - the signal\n",
      "\n",
      "In this notebook, we examine the diffusion MRI signal. We will load some data, and look at characteristics of the signal. \n",
      "\n",
      "First, let's import some of the elements we will need. The following cell initializes the `pylab` mode of the notebook:"
     ]
    },
    {
     "cell_type": "code",
     "collapsed": false,
     "input": [
      "%matplotlib inline\n",
      "import os.path as op\n",
      "\n",
      "import matplotlib.pyplot as plt\n",
      "import numpy as np\n",
      "import nibabel as nib\n",
      "import IPython.html.widgets as wdg\n",
      "import IPython.display as display\n",
      "from matplotlib.patches import FancyArrowPatch\n",
      "from mpl_toolkits.mplot3d import proj3d\n",
      "import dipy.core.geometry as geo"
     ],
     "language": "python",
     "metadata": {},
     "outputs": [],
     "prompt_number": 35
    },
    {
     "cell_type": "markdown",
     "metadata": {},
     "source": [
      "### Downloading example data:"
     ]
    },
    {
     "cell_type": "markdown",
     "metadata": {},
     "source": [
      "Next, let's download some data. We are sharing some data on the Stanford library web-site. This URL points to many data files from dMRI experiments. "
     ]
    },
    {
     "cell_type": "markdown",
     "metadata": {},
     "source": [
      "The 'bvecs' file contains unit vectors in 3 space:"
     ]
    },
    {
     "cell_type": "code",
     "collapsed": false,
     "input": [
      "#ni = nib.load('SUB1_b2000_1.nii.gz')\n",
      "bvecs = np.loadtxt('data/stanford_hardi/HARDI150.bvec')\n",
      "bvals = np.loadtxt('data/stanford_hardi/HARDI150.bval')\n",
      "ni = nib.load('data/stanford_hardi/HARDI150.nii.gz')\n",
      "data = ni.get_data()"
     ],
     "language": "python",
     "metadata": {},
     "outputs": [],
     "prompt_number": 40
    },
    {
     "cell_type": "code",
     "collapsed": false,
     "input": [
      "data.shape"
     ],
     "language": "python",
     "metadata": {},
     "outputs": [
      {
       "metadata": {},
       "output_type": "pyout",
       "prompt_number": 32,
       "text": [
        "(81, 106, 76, 160)"
       ]
      }
     ],
     "prompt_number": 32
    },
    {
     "cell_type": "code",
     "collapsed": false,
     "input": [
      "np.unique(bvals)"
     ],
     "language": "python",
     "metadata": {},
     "outputs": [
      {
       "metadata": {},
       "output_type": "pyout",
       "prompt_number": 43,
       "text": [
        "array([    0.,  2000.])"
       ]
      }
     ],
     "prompt_number": 43
    },
    {
     "cell_type": "code",
     "collapsed": false,
     "input": [
      "plt.plot(data[35, 35, 35, :])\n",
      "plt.xlabel(bvals)"
     ],
     "language": "python",
     "metadata": {},
     "outputs": [
      {
       "metadata": {},
       "output_type": "pyout",
       "prompt_number": 49,
       "text": [
        "<matplotlib.text.Text at 0x7f045b163290>"
       ]
      },
      {
       "metadata": {},
       "output_type": "display_data",
       "png": "[encoded data removed]",
       "text": [
        "<matplotlib.figure.Figure at 0x7f045b4a1450>"
       ]
      }
     ],
     "prompt_number": 49
    },
    {
     "cell_type": "code",
     "collapsed": false,
     "input": [
      "class Arrow3D(FancyArrowPatch):\n",
      "    def __init__(self, xs, ys, zs, *args, **kwargs):\n",
      "        FancyArrowPatch.__init__(self, (0,0), (0,0), *args, **kwargs)\n",
      "        self._verts3d = xs, ys, zs\n",
      "\n",
      "    def draw(self, renderer):\n",
      "        xs3d, ys3d, zs3d = self._verts3d\n",
      "        xs, ys, zs = proj3d.proj_transform(xs3d, ys3d, zs3d, renderer.M)\n",
      "        self.set_positions((xs[0],ys[0]),(xs[1],ys[1]))\n",
      "        FancyArrowPatch.draw(self, renderer)\n",
      "\n",
      "\n",
      "def plot_bvecs(elev=45, azim=45, x=40, y=50, z=35):\n",
      "    this_vec = geo.sphere2cart(1, np.deg2rad(elev), np.deg2rad(azim))\n",
      "    angles = np.arccos(np.dot(this_vec, bvecs[:, 10:]))\n",
      "    closest = np.argmin(angles)\n",
      "    n = closest + 10\n",
      "    fig = plt.figure.Figure()\n",
      "    ax = fig.add_subplot(221, projection='3d')\n",
      "    a = Arrow3D([0, bvecs[0][n]],[0,bvecs[1][n]],[0, bvecs[2][n]], mutation_scale=20, lw=1, arrowstyle=\"-|>\", color=\"k\")\n",
      "    ax.add_artist(a)\n",
      "    for set_lim in [ax.set_xlim, ax.set_ylim, ax.set_zlim]:\n",
      "        set_lim([-1,1])\n",
      "    ax = fig.add_subplot(222)\n",
      "    ax.matshow(data[:, :, z, n], cmap=matplotlib.cm.bone)\n",
      "    ax.axis('off')\n",
      "    ax = fig.add_subplot(223)\n",
      "    ax.axis('off')\n",
      "    ax.matshow(np.rot90(data[:, y, :, n]), cmap=matplotlib.cm.bone)\n",
      "    ax = fig.add_subplot(224)\n",
      "    ax.axis('off')\n",
      "    ax.matshow(np.rot90(data[x, :, :, n]), cmap=matplotlib.cm.bone)\n",
      "    ax.set_title('bvecs: [{}, {}, {}]'.format(bvecs[0][n], bvecs[1][n], bvecs[2][n]))\n",
      "    fig.set_size_inches(10, 10)\n",
      "    plt.show()\n",
      "    "
     ],
     "language": "python",
     "metadata": {},
     "outputs": [],
     "prompt_number": 33
    },
    {
     "cell_type": "code",
     "collapsed": false,
     "input": [
      "data.shape"
     ],
     "language": "python",
     "metadata": {},
     "outputs": [
      {
       "metadata": {},
       "output_type": "pyout",
       "prompt_number": 31,
       "text": [
        "(81, 106, 76, 160)"
       ]
      }
     ],
     "prompt_number": 31
    },
    {
     "cell_type": "code",
     "collapsed": false,
     "input": [
      "pb_widget = wdg.interactive(plot_bvecs,\n",
      "                            elev=wdg.FloatSliderWidget(min=-180, max=180, step=1.0),\n",
      "                            azim=wdg.FloatSliderWidget(min=-180, max=180, step=1.0),\n",
      "                            x=wdg.IntSliderWidget(min=1, max=data.shape[0], value=data.shape[0]//2),\n",
      "                            y=wdg.IntSliderWidget(min=1, max=data.shape[1], value=data.shape[1]//2),\n",
      "                            z=wdg.IntSliderWidget(min=1, max=data.shape[2], value=data.shape[2]//2)\n",
      "                            )\n",
      "display.display(pb_widget)"
     ],
     "language": "python",
     "metadata": {},
     "outputs": [
      {
       "output_type": "stream",
       "stream": "stderr",
       "text": [
        "/home/alexandre/envs/pyss/local/lib/python2.7/site-packages/mpl_toolkits/mplot3d/axes3d.py:1009: UserWarning: Axes3D.figure.canvas is 'None', mouse rotation disabled.  Set canvas then call Axes3D.mouse_init().\n",
        "  warnings.warn('Axes3D.figure.canvas is \\'None\\', mouse rotation disabled.  Set canvas then call Axes3D.mouse_init().')\n"
       ]
      },
      {
       "ename": "IndexError",
       "evalue": "too many indices for array",
       "output_type": "pyerr",
       "traceback": [
        "\u001b[1;31m---------------------------------------------------------------------------\u001b[0m\n\u001b[1;31mIndexError\u001b[0m                                Traceback (most recent call last)",
        "\u001b[1;32m<ipython-input-27-493431b96f0e>\u001b[0m in \u001b[0;36mplot_bvecs\u001b[1;34m(elev, azim, x, y, z)\u001b[0m\n\u001b[0;32m     23\u001b[0m         \u001b[0mset_lim\u001b[0m\u001b[1;33m(\u001b[0m\u001b[1;33m[\u001b[0m\u001b[1;33m-\u001b[0m\u001b[1;36m1\u001b[0m\u001b[1;33m,\u001b[0m\u001b[1;36m1\u001b[0m\u001b[1;33m]\u001b[0m\u001b[1;33m)\u001b[0m\u001b[1;33m\u001b[0m\u001b[0m\n\u001b[0;32m     24\u001b[0m     \u001b[0max\u001b[0m \u001b[1;33m=\u001b[0m \u001b[0mfig\u001b[0m\u001b[1;33m.\u001b[0m\u001b[0madd_subplot\u001b[0m\u001b[1;33m(\u001b[0m\u001b[1;36m222\u001b[0m\u001b[1;33m)\u001b[0m\u001b[1;33m\u001b[0m\u001b[0m\n\u001b[1;32m---> 25\u001b[1;33m     \u001b[0max\u001b[0m\u001b[1;33m.\u001b[0m\u001b[0mmatshow\u001b[0m\u001b[1;33m(\u001b[0m\u001b[0mdata\u001b[0m\u001b[1;33m[\u001b[0m\u001b[1;33m:\u001b[0m\u001b[1;33m,\u001b[0m \u001b[1;33m:\u001b[0m\u001b[1;33m,\u001b[0m \u001b[0mz\u001b[0m\u001b[1;33m,\u001b[0m \u001b[0mn\u001b[0m\u001b[1;33m]\u001b[0m\u001b[1;33m,\u001b[0m \u001b[0mcmap\u001b[0m\u001b[1;33m=\u001b[0m\u001b[0mmatplotlib\u001b[0m\u001b[1;33m.\u001b[0m\u001b[0mcm\u001b[0m\u001b[1;33m.\u001b[0m\u001b[0mbone\u001b[0m\u001b[1;33m)\u001b[0m\u001b[1;33m\u001b[0m\u001b[0m\n\u001b[0m\u001b[0;32m     26\u001b[0m     \u001b[0max\u001b[0m\u001b[1;33m.\u001b[0m\u001b[0maxis\u001b[0m\u001b[1;33m(\u001b[0m\u001b[1;34m'off'\u001b[0m\u001b[1;33m)\u001b[0m\u001b[1;33m\u001b[0m\u001b[0m\n\u001b[0;32m     27\u001b[0m     \u001b[0max\u001b[0m \u001b[1;33m=\u001b[0m \u001b[0mfig\u001b[0m\u001b[1;33m.\u001b[0m\u001b[0madd_subplot\u001b[0m\u001b[1;33m(\u001b[0m\u001b[1;36m223\u001b[0m\u001b[1;33m)\u001b[0m\u001b[1;33m\u001b[0m\u001b[0m\n",
        "\u001b[1;31mIndexError\u001b[0m: too many indices for array"
       ]
      }
     ],
     "prompt_number": 28
    },
    {
     "cell_type": "code",
     "collapsed": false,
     "input": [],
     "language": "python",
     "metadata": {},
     "outputs": []
    }
   ],
   "metadata": {}
  }
 ]
}