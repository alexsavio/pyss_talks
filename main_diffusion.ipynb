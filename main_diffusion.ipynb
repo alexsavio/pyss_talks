{
 "metadata": {
  "celltoolbar": "Slideshow",
  "name": "",
  "signature": "sha256:8b3e3de44fbeec35d14a87ab7a772f66242745fa03c73996c132eabded399d1d"
 },
 "nbformat": 3,
 "nbformat_minor": 0,
 "worksheets": [
  {
   "cells": [
    {
     "cell_type": "markdown",
     "metadata": {
      "slideshow": {
       "slide_type": "slide"
      }
     },
     "source": [
      "<h1><center>Diffusion</center></h1>\n",
      "\n",
      "<h2 style='color: #999999'><center>Alexandre Savio, Darya Chyzhyk</center></h2>\n",
      "\n",
      "<h2 style='color: #005589'><center>September 26-28th, 2014</center></h2>\n",
      "<p><img align='center' src='logo_pyss.svg' width='100px'></p>\n",
      "\n",
      "<p><img align='center' src='logo_docheader.svg' width='200px'/></p>"
     ]
    },
    {
     "cell_type": "markdown",
     "metadata": {
      "slideshow": {
       "slide_type": "subslide"
      }
     },
     "source": [
      "## whoami\n",
      "\n",
      "<p style=\"font-size:32px\">Alexandre Manh\u00e3es Savio</p>\n",
      "\n",
      "<p><i class=\"fa fa-globe fa-fw\"></i>http://alexsavio.github.io</p>\n",
      "\n",
      "<p><i class=\"fa fa-github fa-fw\"></i> http://www.github.com/alexsavio</p>\n",
      "\n",
      "<p><i class=\"fa fa-twitter fa-fw\"></i>[@alex_savio](http://www.twitter.com/alex_savio)</p>\n",
      "\n",
      "<p><i class=\"fa fa-envelope fa-fw\"></i><a href='mailto:alex.savio@neurita.com'>alex.savio@neurita.com</a></p>"
     ]
    },
    {
     "cell_type": "markdown",
     "metadata": {
      "slideshow": {
       "slide_type": "slide"
      }
     },
     "source": [
      "# What is diffusion?"
     ]
    },
    {
     "cell_type": "markdown",
     "metadata": {
      "slideshow": {
       "slide_type": "subslide"
      }
     },
     "source": [
      "<p><center><h2>Random motion of particles due to thermal energy</h2></center></p>\n",
      "<img src='http://upload.wikimedia.org/wikipedia/commons/f/f9/Blausen_0315_Diffusion.png'></img>"
     ]
    },
    {
     "cell_type": "markdown",
     "metadata": {
      "slideshow": {
       "slide_type": "subslide"
      }
     },
     "source": [
      "<img src='http://upload.wikimedia.org/wikipedia/commons/1/12/Diffusion.svg'></img>"
     ]
    },
    {
     "cell_type": "markdown",
     "metadata": {
      "slideshow": {
       "slide_type": "fragment"
      }
     },
     "source": [
      "In solutions, the molecules collide and move towards areas of less concentration."
     ]
    },
    {
     "cell_type": "markdown",
     "metadata": {
      "slideshow": {
       "slide_type": "fragment"
      }
     },
     "source": [
      "Producing a net **displacement** described by the *diffusion coefficient* (D) of the medium."
     ]
    },
    {
     "cell_type": "markdown",
     "metadata": {
      "slideshow": {
       "slide_type": "subslide"
      }
     },
     "source": [
      "## History of the Brownian Motion"
     ]
    },
    {
     "cell_type": "markdown",
     "metadata": {
      "slideshow": {
       "slide_type": "fragment"
      }
     },
     "source": [
      "<img src='http://www.nhm.ac.uk/nature-online/art-nature-imaging/collections/art-themes/caught_in_oils/images/brown_main.jpg'/>\n",
      "\n",
      "**Robert Brown** (1827): the first one to discover random motions of pollen grains while studying them through microscope."
     ]
    },
    {
     "cell_type": "markdown",
     "metadata": {
      "slideshow": {
       "slide_type": "fragment"
      }
     },
     "source": [
      "<img src='http://upload.wikimedia.org/wikipedia/commons/6/60/Adolf_Fick.png'/>\n",
      "\n",
      "**Adolf Eugen Fick** (1855): Fick managed to double-publish his law of diffusion, as it applied equally to physiology and physics. His work led to the development of the direct Fick method for measuring cardiac output."
     ]
    },
    {
     "cell_type": "markdown",
     "metadata": {
      "slideshow": {
       "slide_type": "fragment"
      }
     },
     "source": [
      "<img src='http://tyrannyoftradition.files.wordpress.com/2014/02/93434191-einstein-tongue_custom-36fb0ce35776dc2d92eda90880022bf48a67e192-s6-c30.jpg' width='300px'/>\n",
      "\n",
      "**Einstein** (1910): coherent description of diffusion emerged, identifying the diffusion coefficient in Fick's law and the variance of the particle displacement distribution that describes the migration of particles."
     ]
    },
    {
     "cell_type": "markdown",
     "metadata": {},
     "source": [
      "[BrownianMotion.ipynb](BrownianMotion.ipynb)"
     ]
    },
    {
     "cell_type": "markdown",
     "metadata": {
      "slideshow": {
       "slide_type": "subslide"
      }
     },
     "source": [
      "## Diffusion as a Gaussian"
     ]
    },
    {
     "cell_type": "markdown",
     "metadata": {
      "slideshow": {
       "slide_type": "fragment"
      }
     },
     "source": [
      "For a barrier-free medium, diffusion can be described by a Normal distribution with $N\\left(0,\\,D^2t\\right)$ , i.e.\n",
      "\n",
      "+ Zero-mean displacement \n",
      "+ Variance proportional to time and the diffusion coefficient"
     ]
    },
    {
     "cell_type": "markdown",
     "metadata": {
      "slideshow": {
       "slide_type": "fragment"
      }
     },
     "source": [
      "**Norbert Wiener** (1894, 1964) stablished a simple equation to represent the stochastic process of the Brownian motion."
     ]
    },
    {
     "cell_type": "markdown",
     "metadata": {
      "slideshow": {
       "slide_type": "fragment"
      }
     },
     "source": [
      "<a target=\"_blank\" href=\"1_brownian_motion.ipynb\">Brownian Motion</a>"
     ]
    },
    {
     "cell_type": "markdown",
     "metadata": {
      "slideshow": {
       "slide_type": "slide"
      }
     },
     "source": [
      "# Apparent diffusion"
     ]
    },
    {
     "cell_type": "markdown",
     "metadata": {
      "slideshow": {
       "slide_type": "fragment"
      }
     },
     "source": [
      "<img src='imgs/anim_diffusion.gif'/>"
     ]
    },
    {
     "cell_type": "markdown",
     "metadata": {
      "slideshow": {
       "slide_type": "fragment"
      }
     },
     "source": [
      "<img src='imgs/apparent_diffusion.png'/>"
     ]
    },
    {
     "cell_type": "markdown",
     "metadata": {
      "slideshow": {
       "slide_type": "slide"
      }
     },
     "source": [
      "## Water diffusion within biological tissues"
     ]
    },
    {
     "cell_type": "markdown",
     "metadata": {
      "slideshow": {
       "slide_type": "fragment"
      }
     },
     "source": [
      "Within biological tissues the water diffuses anisotropically"
     ]
    },
    {
     "cell_type": "markdown",
     "metadata": {
      "slideshow": {
       "slide_type": "fragment"
      }
     },
     "source": [
      "Diffusion is restricted by tissue boundaries, membranes, etc."
     ]
    },
    {
     "cell_type": "markdown",
     "metadata": {
      "slideshow": {
       "slide_type": "subslide"
      }
     },
     "source": [
      "## D for $H_{2}O$"
     ]
    },
    {
     "cell_type": "markdown",
     "metadata": {
      "slideshow": {
       "slide_type": "fragment"
      }
     },
     "source": [
      "The diffusion coefficient for water at $37^{o}C$ is approximately \\begin{align} D=3\\cdot10^{-9}\\frac{m^{2}}{sec}. \\end{align}"
     ]
    },
    {
     "cell_type": "markdown",
     "metadata": {
      "slideshow": {
       "slide_type": "subslide"
      }
     },
     "source": [
      "#Diffusion tensor imaging (DTI)"
     ]
    },
    {
     "cell_type": "markdown",
     "metadata": {
      "slideshow": {
       "slide_type": "fragment"
      }
     },
     "source": [
      "DTI is a magnetic resonance imaging technique."
     ]
    },
    {
     "cell_type": "markdown",
     "metadata": {
      "slideshow": {
       "slide_type": "fragment"
      }
     },
     "source": [
      "Enables the measurement of the restricted diffusion of water in tissue."
     ]
    },
    {
     "cell_type": "markdown",
     "metadata": {
      "slideshow": {
       "slide_type": "subslide"
      }
     },
     "source": [
      "Each voxel of a single DTI image is usually calculated using different diffusion weighted acquisitions,"
     ]
    },
    {
     "cell_type": "markdown",
     "metadata": {
      "slideshow": {
       "slide_type": "fragment"
      }
     },
     "source": [
      "each obtained with a different **orientation** of the diffusion sensitizing gradients."
     ]
    },
    {
     "cell_type": "markdown",
     "metadata": {
      "slideshow": {
       "slide_type": "fragment"
      }
     },
     "source": [
      "Directionality of diffusion tells us about integrity/structure and orientation of the tissue"
     ]
    },
    {
     "cell_type": "markdown",
     "metadata": {
      "slideshow": {
       "slide_type": "subslide"
      }
     },
     "source": [
      "<a target=\"_blank\" href=\"2_gradients_and_bvecs.ipynb\">Gradients, b-value and vectors</a>"
     ]
    },
    {
     "cell_type": "markdown",
     "metadata": {
      "slideshow": {
       "slide_type": "slide"
      }
     },
     "source": [
      "## MRI to measure diffusion in the brain"
     ]
    },
    {
     "cell_type": "markdown",
     "metadata": {
      "slideshow": {
       "slide_type": "fragment"
      }
     },
     "source": [
      "<img src='imgs/neuron_diffusion.png'/>"
     ]
    },
    {
     "cell_type": "markdown",
     "metadata": {
      "slideshow": {
       "slide_type": "slide"
      }
     },
     "source": [
      "<a target=\"_blank\" href=\"3_brain_DTI.ipynb\">A diffusion MRI of the brain</a>"
     ]
    },
    {
     "cell_type": "markdown",
     "metadata": {
      "slideshow": {
       "slide_type": "subslide"
      }
     },
     "source": [
      "Diffusion MRI is a non-invasive method to measure the location- and direction-specific diffusion of water in the human brain *in vivo*. \n",
      "\n",
      "The measurement is rendered sensitive to diffusion through an application of a pulsed gradient. \n",
      "\n",
      "Between the two gradients, a diffusion time is set, allowing water molecules to diffuse. The experiment is usually described through a diffusion sensitization parameter, called the b-value."
     ]
    },
    {
     "cell_type": "markdown",
     "metadata": {
      "slideshow": {
       "slide_type": "subslide"
      }
     },
     "source": [
      "<img src='imgs/diffusion_tensor.jpg'/>"
     ]
    },
    {
     "cell_type": "markdown",
     "metadata": {
      "slideshow": {
       "slide_type": "slide"
      }
     },
     "source": [
      "## Python modules for diffusion MRI processing"
     ]
    },
    {
     "cell_type": "markdown",
     "metadata": {
      "slideshow": {
       "slide_type": "fragment"
      }
     },
     "source": [
      "<img src='http://nipy.org/dipy/_static/dipy-banner.png'/>\n",
      "http://nipy.org/dipy/"
     ]
    },
    {
     "cell_type": "markdown",
     "metadata": {
      "slideshow": {
       "slide_type": "fragment"
      }
     },
     "source": [
      "https://github.com/arokem/osmosis"
     ]
    },
    {
     "cell_type": "markdown",
     "metadata": {
      "slideshow": {
       "slide_type": "slide"
      }
     },
     "source": [
      "# References"
     ]
    },
    {
     "cell_type": "markdown",
     "metadata": {
      "slideshow": {
       "slide_type": "fragment"
      }
     },
     "source": [
      "[1] http://nbviewer.ipython.org/github/pv/SciPy-CookBook/blob/master/ipython/BrownianMotion.ipynb\n",
      "\n",
      "[2] \"<a href=\"http://commons.wikimedia.org/wiki/File:Blausen_0315_Diffusion.png#mediaviewer/File:Blausen_0315_Diffusion.png\">Blausen 0315 Diffusion</a>\" by <a href=\"//commons.wikimedia.org/wiki/User:BruceBlaus\" title=\"User:BruceBlaus\">BruceBlaus</a> - <span class=\"int-own-work\">Own work</span>. Licensed under <a title=\"Creative Commons Attribution 3.0\" href=\"http://creativecommons.org/licenses/by/3.0\">CC BY 3.0</a> via <a href=\"//commons.wikimedia.org/wiki/\">Wikimedia Commons</a>.\n",
      "\n",
      "[3] \"<a href=\"http://commons.wikimedia.org/wiki/File:Diffusion.svg#mediaviewer/File:Diffusion.svg\">Diffusion</a>\" by <a href=\"//commons.wikimedia.org/wiki/User:JrPol\" title=\"User:JrPol\">JrPol</a> - <span class=\"int-own-work\">Own work</span>. Licensed under <a title=\"Creative Commons Attribution 3.0\" href=\"http://creativecommons.org/licenses/by/3.0\">CC BY 3.0</a> via <a href=\"//commons.wikimedia.org/wiki/\">Wikimedia Commons</a>.\n",
      "\n",
      "[4] \"<a href=\"http://commons.wikimedia.org/wiki/File:Adolf_Fick.png#mediaviewer/File:Adolf_Fick.png\">Adolf Fick</a>\" by <a href=\"//en.wikipedia.org/wiki/User:Paroxysm\" class=\"extiw\" title=\"en:User:Paroxysm\">en:User:Paroxysm</a> - englisch <a href=\"//en.wikipedia.org/wiki/Main_Page\" class=\"extiw\" title=\"en:Main Page\">Wikipedia</a>. Licensed under Public domain via <a href=\"//commons.wikimedia.org/wiki/\">Wikimedia Commons</a>.\n",
      "\n",
      "[5] \"<a href=\"http://commons.wikimedia.org/wiki/File:Blausen_0315_Diffusion.png#mediaviewer/File:Blausen_0315_Diffusion.png\">Blausen 0315 Diffusion</a>\" by <a href=\"//commons.wikimedia.org/wiki/User:BruceBlaus\" title=\"User:BruceBlaus\">BruceBlaus</a> - <span class=\"int-own-work\">Own work</span>. Licensed under <a title=\"Creative Commons Attribution 3.0\" href=\"http://creativecommons.org/licenses/by/3.0\">CC BY 3.0</a> via <a href=\"//commons.wikimedia.org/wiki/\">Wikimedia Commons</a>.\n",
      "\n",
      "[6] Mukherjee P, Berman JI, Chung SW, Hess CP, Henry RG. *Diffusion Tensor MR Imaging and Fiber Tractography: Theoretic Underpinnings.* American Journal of Neuroradiology. 2008;29(4):632-641. doi:10.3174/ajnr.A1051.\n",
      "\n",
      "[7] Garyfallidis E, Brett M, Amirbekian B, Rokem A, van der Walt S, Descoteaux M, Nimmo-Smith I and Dipy Contributors (2014). *[Dipy, a library for the analysis of diffusion MRI data](http://journal.frontiersin.org/Journal/10.3389/fninf.2014.00008/abstract).* Frontiers in Neuroinformatics, vol.8, no.8.\n"
     ]
    },
    {
     "cell_type": "markdown",
     "metadata": {
      "slideshow": {
       "slide_type": "slide"
      }
     },
     "source": [
      "# \\begin{align} Questions? \\end{align}"
     ]
    }
   ],
   "metadata": {}
  }
 ]
}