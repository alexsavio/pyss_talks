{
 "metadata": {
  "name": "",
  "signature": "sha256:38c9c16f0826b65ca13b5dcdcee9886c18991121189b7024efed19e9b8fbe7c6"
 },
 "nbformat": 3,
 "nbformat_minor": 0,
 "worksheets": []
}